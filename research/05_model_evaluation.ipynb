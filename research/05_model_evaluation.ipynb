{
 "cells": [
  {
   "cell_type": "code",
   "execution_count": 1,
   "metadata": {},
   "outputs": [
    {
     "data": {
      "text/plain": [
       "'d:\\\\college_work\\\\4th year\\\\Sem7th\\\\Project\\\\OBE\\\\Paper- Blooms taxanomy\\\\Boolm-s-Level-Detection-A-MLOPS-Project\\\\research'"
      ]
     },
     "execution_count": 1,
     "metadata": {},
     "output_type": "execute_result"
    }
   ],
   "source": [
    "import os\n",
    "%pwd"
   ]
  },
  {
   "cell_type": "code",
   "execution_count": 2,
   "metadata": {},
   "outputs": [
    {
     "data": {
      "text/plain": [
       "'d:\\\\college_work\\\\4th year\\\\Sem7th\\\\Project\\\\OBE\\\\Paper- Blooms taxanomy\\\\Boolm-s-Level-Detection-A-MLOPS-Project'"
      ]
     },
     "execution_count": 2,
     "metadata": {},
     "output_type": "execute_result"
    }
   ],
   "source": [
    "os.chdir(\"../\")\n",
    "%pwd"
   ]
  },
  {
   "cell_type": "code",
   "execution_count": 3,
   "metadata": {},
   "outputs": [],
   "source": [
    "os.environ[\"MLFLOW_TRACKING_URI\"]=\"https://dagshub.com/ukantjadia/Boolm-s-Level-Detection-A-MLOPS-Project.mlflow\"\n",
    "os.environ[\"MLFLOW_TRACKING_USERNAME\"]=\"ukantjadia\"\n",
    "os.environ[\"MLFLOW_TRACKING_PASSWORD\"]=\"cb7df2a64a9e62c2f3b5a892a1e0593545a8ea77\" "
   ]
  },
  {
   "cell_type": "code",
   "execution_count": 4,
   "metadata": {},
   "outputs": [],
   "source": [
    "from dataclasses import dataclass\n",
    "from pathlib import Path \n",
    "\n",
    "@dataclass(frozen=True)\n",
    "class ModelEvaluationConfig:\n",
    "    root_dir: Path \n",
    "    test_data_path: Path \n",
    "    model_path: Path \n",
    "    metric_file_name: Path\n",
    "    mlflow_URI: str \n",
    "    all_params: dict\n",
    "    target_column: str\n",
    "    training_columns: str"
   ]
  },
  {
   "cell_type": "code",
   "execution_count": 6,
   "metadata": {},
   "outputs": [],
   "source": [
    "from blooms import logger\n",
    "from blooms.utils.common import read_yaml, create_directories, save_json\n",
    "from blooms.constants import *"
   ]
  },
  {
   "cell_type": "code",
   "execution_count": 7,
   "metadata": {},
   "outputs": [],
   "source": [
    "class ConfigurationManager:\n",
    "    def __init__(\n",
    "        self,\n",
    "        config_filepath=CONFIG_FILE_PATH,\n",
    "        params_filepath=PARAMS_FILE_PATH,\n",
    "        schema_filepath=SCHEMA_FILE_PATH,\n",
    "    ):\n",
    "        self.config = read_yaml(config_filepath)\n",
    "        self.params = read_yaml(params_filepath)\n",
    "        self.schema = read_yaml(schema_filepath)\n",
    "\n",
    "        create_directories([self.config.artifacts_root])\n",
    "\n",
    "    def get_model_evaluation_config(self) -> ModelEvaluationConfig:\n",
    "        config = self.config.model_evaluation\n",
    "        params = self.params.NBMultinomial\n",
    "        schema = self.schema.COLUMNS\n",
    "        create_directories([config.root_dir])\n",
    "        model_evaluation_config = ModelEvaluationConfig(\n",
    "            root_dir=config.root_dir,\n",
    "            test_data_path=config.test_data_path,\n",
    "            model_path=config.model_path,\n",
    "            metric_file_name=config.metric_file_name,\n",
    "            all_params=params,\n",
    "            mlflow_URI=\"https://dagshub.com/ukantjadia/Boolm-s-Level-Detection-A-MLOPS-Project.mlflow\",\n",
    "            target_column=schema.target_column,\n",
    "            training_columns=schema.training_columns,\n",
    "        )\n",
    "        return model_evaluation_config"
   ]
  },
  {
   "cell_type": "code",
   "execution_count": 22,
   "metadata": {},
   "outputs": [],
   "source": [
    "import pandas as pd\n",
    "import os \n",
    "from sklearn.metrics import accuracy_score,classification_report,mean_absolute_error,mean_squared_error,r2_score\n",
    "from urllib.parse import urlparse\n",
    "import mlflow \n",
    "import mlflow.sklearn\n",
    "import numpy as np   \n",
    "import joblib \n",
    "from sklearn.preprocessing import LabelEncoder"
   ]
  },
  {
   "cell_type": "code",
   "execution_count": 25,
   "metadata": {},
   "outputs": [],
   "source": [
    "class ModelEvaluation:\n",
    "    def __init__(self,config: ModelEvaluationConfig):\n",
    "        self.config = config \n",
    "        \n",
    "    def eval_matrix(self,actual,pred):\n",
    "        rmse = mean_squared_error(actual,pred)\n",
    "        mae = mean_absolute_error(actual,pred)\n",
    "        r2 = r2_score(actual,pred)\n",
    "        acc = accuracy_score(actual,pred)\n",
    "        report = classification_report(actual,pred)\n",
    "        return rmse, mae, r2, acc, report\n",
    "    \n",
    "    def log_into_mlflow(self):\n",
    "        encoder = LabelEncoder()\n",
    "        test_data = pd.read_csv(self.config.test_data_path)\n",
    "        model = joblib.load(filename=self.config.model_path)\n",
    "        \n",
    "        test_x = test_data[self.config.training_columns].tolist()\n",
    "        test_y = test_data[self.config.target_column].tolist()\n",
    "        \n",
    "        mlflow.set_registry_uri(self.config.mlflow_URI)\n",
    "        tracking_url_type_store = urlparse(mlflow.get_tracking_uri()).scheme\n",
    "        \n",
    "        with mlflow.start_run():\n",
    "            predicted_qualities = model.predict(test_x)\n",
    "            (rmse, mae, r2, acc, report) = self.eval_matrix(encoder.fit_transform(test_y),encoder.fit_transform(predicted_qualities))\n",
    "            scores = {\"rmse\":rmse,\"mae\":mae,\"r2\":r2,\"accuracy\":acc}\n",
    "            save_json(path=Path(self.config.metric_file_name),data=scores)\n",
    "            mlflow.log_params(self.config.all_params)\n",
    "            mlflow.log_metric(\"rmse\",rmse)\n",
    "            mlflow.log_metric(\"mae\",mae)\n",
    "            mlflow.log_metric(\"r2\",r2)\n",
    "            mlflow.log_metric(\"accuracy\",acc)\n",
    "            \n",
    "            if tracking_url_type_store != 'file':\n",
    "                mlflow.sklearn.log_model(model,\"model\",registered_model_name=\"NB Multinomial\")\n",
    "            else:\n",
    "                mlflow.sklearn.load_model(model,\"model\")"
   ]
  },
  {
   "cell_type": "code",
   "execution_count": 26,
   "metadata": {},
   "outputs": [
    {
     "name": "stdout",
     "output_type": "stream",
     "text": [
      "[2023-12-19 16:51:37: \u001b[32mINFO\u001b[0m: common: yaml file: config\\config.yaml loaded succcessfully]\u001b[0m\n",
      "[2023-12-19 16:51:37: \u001b[32mINFO\u001b[0m: common: yaml file: params.yaml loaded succcessfully]\u001b[0m\n",
      "[2023-12-19 16:51:37: \u001b[32mINFO\u001b[0m: common: yaml file: schema.yaml loaded succcessfully]\u001b[0m\n",
      "[2023-12-19 16:51:37: \u001b[32mINFO\u001b[0m: common: created directory at : artifacts]\u001b[0m\n",
      "[2023-12-19 16:51:37: \u001b[32mINFO\u001b[0m: common: created directory at : artifacts/model_evaluation]\u001b[0m\n"
     ]
    },
    {
     "name": "stderr",
     "output_type": "stream",
     "text": [
      "c:\\Users\\Ukant\\anaconda3\\envs\\blooms\\Lib\\site-packages\\_distutils_hack\\__init__.py:18: UserWarning: Distutils was imported before Setuptools, but importing Setuptools also replaces the `distutils` module in `sys.modules`. This may lead to undesirable behaviors or errors. To avoid these issues, avoid using distutils directly, ensure that setuptools is installed in the traditional way (e.g. not an editable install), and/or make sure that setuptools is always imported before distutils.\n",
      "  warnings.warn(\n",
      "c:\\Users\\Ukant\\anaconda3\\envs\\blooms\\Lib\\site-packages\\_distutils_hack\\__init__.py:33: UserWarning: Setuptools is replacing distutils.\n",
      "  warnings.warn(\"Setuptools is replacing distutils.\")\n",
      "Registered model 'NB Multinomial' already exists. Creating a new version of this model...\n",
      "2023/12/19 16:51:54 INFO mlflow.store.model_registry.abstract_store: Waiting up to 300 seconds for model version to finish creation. Model name: NB Multinomial, version 2\n",
      "Created version '2' of model 'NB Multinomial'.\n"
     ]
    }
   ],
   "source": [
    "try: \n",
    "    config = ConfigurationManager()\n",
    "    model_evaluation_config = config.get_model_evaluation_config()\n",
    "    model_evaluation = ModelEvaluation(config=model_evaluation_config)\n",
    "    model_evaluation.log_into_mlflow()\n",
    "except Exception as e:\n",
    "    raise e"
   ]
  },
  {
   "cell_type": "code",
   "execution_count": null,
   "metadata": {},
   "outputs": [],
   "source": []
  }
 ],
 "metadata": {
  "kernelspec": {
   "display_name": "blooms",
   "language": "python",
   "name": "python3"
  },
  "language_info": {
   "codemirror_mode": {
    "name": "ipython",
    "version": 3
   },
   "file_extension": ".py",
   "mimetype": "text/x-python",
   "name": "python",
   "nbconvert_exporter": "python",
   "pygments_lexer": "ipython3",
   "version": "3.11.5"
  }
 },
 "nbformat": 4,
 "nbformat_minor": 2
}
